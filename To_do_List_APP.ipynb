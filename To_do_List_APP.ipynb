{
  "nbformat": 4,
  "nbformat_minor": 0,
  "metadata": {
    "colab": {
      "provenance": []
    },
    "kernelspec": {
      "name": "python3",
      "display_name": "Python 3"
    },
    "language_info": {
      "name": "python"
    }
  },
  "cells": [
    {
      "cell_type": "code",
      "execution_count": 1,
      "metadata": {
        "id": "249zCnrEDKxG"
      },
      "outputs": [],
      "source": [
        "!apt-get install openjdk-17-jdk-headless -qq > /dev/null\n"
      ]
    },
    {
      "cell_type": "code",
      "source": [
        "%%writefile ToDoListApp.java\n",
        "(Paste the Java code here)\n"
      ],
      "metadata": {
        "colab": {
          "base_uri": "https://localhost:8080/"
        },
        "id": "rVKYYejNDYUR",
        "outputId": "05c04b3d-dd63-49d2-dfb5-1339f9619bc7"
      },
      "execution_count": 2,
      "outputs": [
        {
          "output_type": "stream",
          "name": "stdout",
          "text": [
            "Writing ToDoListApp.java\n"
          ]
        }
      ]
    },
    {
      "cell_type": "code",
      "source": [
        "!javac ToDoListApp.java\n",
        "!java ToDoListApp\n"
      ],
      "metadata": {
        "colab": {
          "base_uri": "https://localhost:8080/"
        },
        "id": "yXn3mq07Da6d",
        "outputId": "4525c226-cafc-438d-dd9c-e8f95b039bd9"
      },
      "execution_count": 3,
      "outputs": [
        {
          "output_type": "stream",
          "name": "stdout",
          "text": [
            "ToDoListApp.java:1: error: class, interface, enum, or record expected\n",
            "(Paste the Java code here)\n",
            "^\n",
            "1 error\n",
            "Error: Could not find or load main class ToDoListApp\n",
            "Caused by: java.lang.ClassNotFoundException: ToDoListApp\n"
          ]
        }
      ]
    },
    {
      "cell_type": "code",
      "source": [
        "!apt-get install openjdk-17-jdk-headless -qq > /dev/null\n"
      ],
      "metadata": {
        "id": "18_5dO5_DwEE"
      },
      "execution_count": 5,
      "outputs": []
    },
    {
      "cell_type": "code",
      "source": [
        "%%writefile ToDoListApp.java\n",
        "import java.util.ArrayList;\n",
        "import java.util.Scanner;\n",
        "\n",
        "public class ToDoListApp {\n",
        "    private static ArrayList<String> tasks = new ArrayList<>();\n",
        "    private static Scanner scanner = new Scanner(System.in);\n",
        "\n",
        "    public static void main(String[] args) {\n",
        "        while (true) {\n",
        "            System.out.println(\"\\nTo-Do List Application\");\n",
        "            System.out.println(\"1. Add Task\");\n",
        "            System.out.println(\"2. Remove Task\");\n",
        "            System.out.println(\"3. View Tasks\");\n",
        "            System.out.println(\"4. Exit\");\n",
        "            System.out.print(\"Choose an option: \");\n",
        "\n",
        "            int choice = scanner.nextInt();\n",
        "            scanner.nextLine(); // Consume newline\n",
        "\n",
        "            switch (choice) {\n",
        "                case 1:\n",
        "                    addTask();\n",
        "                    break;\n",
        "                case 2:\n",
        "                    removeTask();\n",
        "                    break;\n",
        "                case 3:\n",
        "                    viewTasks();\n",
        "                    break;\n",
        "                case 4:\n",
        "                    System.out.println(\"Exiting program. Goodbye!\");\n",
        "                    return;\n",
        "                default:\n",
        "                    System.out.println(\"Invalid choice! Try again.\");\n",
        "            }\n",
        "        }\n",
        "    }\n",
        "\n",
        "    private static void addTask() {\n",
        "        System.out.print(\"Enter task description: \");\n",
        "        String task = scanner.nextLine();\n",
        "        tasks.add(task);\n",
        "        System.out.println(\"Task added successfully!\");\n",
        "    }\n",
        "\n",
        "    private static void removeTask() {\n",
        "        if (tasks.isEmpty()) {\n",
        "            System.out.println(\"No tasks available to remove.\");\n",
        "            return;\n",
        "        }\n",
        "        viewTasks();\n",
        "        System.out.print(\"Enter task number to remove: \");\n",
        "        int index = scanner.nextInt();\n",
        "        if (index > 0 && index <= tasks.size()) {\n",
        "            tasks.remove(index - 1);\n",
        "            System.out.println(\"Task removed successfully!\");\n",
        "        } else {\n",
        "            System.out.println(\"Invalid task number.\");\n",
        "        }\n",
        "    }\n",
        "\n",
        "    private static void viewTasks() {\n",
        "        if (tasks.isEmpty()) {\n",
        "            System.out.println(\"No tasks available.\");\n",
        "        } else {\n",
        "            System.out.println(\"\\nYour To-Do List:\");\n",
        "            for (int i = 0; i < tasks.size(); i++) {\n",
        "                System.out.println((i + 1) + \". \" + tasks.get(i));\n",
        "            }\n",
        "        }\n",
        "    }\n",
        "}\n"
      ],
      "metadata": {
        "colab": {
          "base_uri": "https://localhost:8080/"
        },
        "id": "7uzLAY01DyYi",
        "outputId": "ee84d48f-5833-497a-e0b5-2ea6515a8200"
      },
      "execution_count": 6,
      "outputs": [
        {
          "output_type": "stream",
          "name": "stdout",
          "text": [
            "Overwriting ToDoListApp.java\n"
          ]
        }
      ]
    },
    {
      "cell_type": "code",
      "source": [
        "!javac ToDoListApp.java\n"
      ],
      "metadata": {
        "id": "ddki4JwqD3_D"
      },
      "execution_count": 7,
      "outputs": []
    },
    {
      "cell_type": "code",
      "source": [
        "!java ToDoListApp\n"
      ],
      "metadata": {
        "colab": {
          "base_uri": "https://localhost:8080/"
        },
        "id": "1NY5HU_eD7WK",
        "outputId": "79cad63e-cd09-460b-ae11-d12183843b79"
      },
      "execution_count": null,
      "outputs": [
        {
          "output_type": "stream",
          "name": "stdout",
          "text": [
            "\n",
            "To-Do List Application\n",
            "1. Add Task\n",
            "2. Remove Task\n",
            "3. View Tasks\n",
            "4. Exit\n",
            "Choose an option: "
          ]
        }
      ]
    }
  ]
}